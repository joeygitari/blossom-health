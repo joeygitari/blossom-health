{
 "cells": [
  {
   "cell_type": "markdown",
   "metadata": {},
   "source": [
    "# Maternal Health Risk using EDA and machine learning\n",
    "\n",
    "\n",
    "\n",
    "<img src=\"https://miro.medium.com/max/400/1*rmj7B0EumeMHL4SiW6tD5Q.gif\" width=\"600px\">\n",
    "\n",
    "\n",
    "\n",
    "# 5 Algorithms Classification\n",
    "\n",
    "We used dataprep EDA and 5 algorithms Classification\n",
    "\n",
    "\n",
    "\n",
    "* Support Vector Machine(RBF)\n",
    "* Xgboost\n",
    "* Decision Tree\n",
    "* Random Forest\n",
    "* Gaussian Naive Bayes\n",
    "\n",
    "\n",
    "\n",
    "Data Set Information:\n",
    "\n",
    "\n",
    "Data has been collected from different hospitals, community clinics, maternal health cares through the IoT based risk monitoring system.\n",
    "\n",
    "* Age: Age in years when a woman is pregnant.\n",
    "* SystolicBP: Upper value of Blood Pressure in mmHg, another significant attribute during pregnancy.\n",
    "* DiastolicBP: Lower value of Blood Pressure in mmHg, another significant attribute during pregnancy.\n",
    "* BS: Blood glucose levels is in terms of a molar concentration, mmol/L.\n",
    "* HeartRate: A normal resting heart rate in beats per minute.\n",
    "* Risk Level: Predicted Risk Intensity Level during pregnancy considering the previous attribute.\n",
    "\n",
    "Dataset link :\n",
    "\n",
    "[HERE](https://www.kaggle.com/csafrit2/maternal-health-risk-data)"
   ]
  },
  {
   "cell_type": "code",
   "execution_count": null,
   "metadata": {
    "_kg_hide-input": true,
    "_kg_hide-output": true,
    "execution": {
     "iopub.execute_input": "2021-12-26T17:37:57.517201Z",
     "iopub.status.busy": "2021-12-26T17:37:57.516884Z",
     "iopub.status.idle": "2021-12-26T17:38:05.628755Z",
     "shell.execute_reply": "2021-12-26T17:38:05.627673Z",
     "shell.execute_reply.started": "2021-12-26T17:37:57.517164Z"
    }
   },
   "outputs": [],
   "source": [
    "pip install dataprep"
   ]
  },
  {
   "cell_type": "code",
   "execution_count": null,
   "metadata": {
    "execution": {
     "iopub.execute_input": "2021-12-26T17:38:05.631079Z",
     "iopub.status.busy": "2021-12-26T17:38:05.630841Z",
     "iopub.status.idle": "2021-12-26T17:38:05.636639Z",
     "shell.execute_reply": "2021-12-26T17:38:05.635853Z",
     "shell.execute_reply.started": "2021-12-26T17:38:05.631048Z"
    }
   },
   "outputs": [],
   "source": [
    "import pandas as pd\n",
    "import seaborn as sns\n",
    "import numpy as np\n",
    "from sklearn.model_selection import train_test_split\n",
    "from sklearn.preprocessing import StandardScaler\n",
    "from sklearn.metrics import confusion_matrix, accuracy_score\n",
    "from sklearn.metrics import classification_report"
   ]
  },
  {
   "cell_type": "code",
   "execution_count": null,
   "metadata": {
    "execution": {
     "iopub.execute_input": "2021-12-26T17:38:05.663464Z",
     "iopub.status.busy": "2021-12-26T17:38:05.662797Z",
     "iopub.status.idle": "2021-12-26T17:38:05.688226Z",
     "shell.execute_reply": "2021-12-26T17:38:05.6873Z",
     "shell.execute_reply.started": "2021-12-26T17:38:05.663412Z"
    }
   },
   "outputs": [],
   "source": [
    "df = pd.read_csv('../datasets/pregnancy-risk-datasets/Maternal Health Risk Data Set.csv')\n",
    "df.head()"
   ]
  },
  {
   "cell_type": "code",
   "execution_count": null,
   "metadata": {
    "execution": {
     "iopub.execute_input": "2021-12-26T17:38:06.127874Z",
     "iopub.status.busy": "2021-12-26T17:38:06.127236Z",
     "iopub.status.idle": "2021-12-26T17:38:06.140832Z",
     "shell.execute_reply": "2021-12-26T17:38:06.139964Z",
     "shell.execute_reply.started": "2021-12-26T17:38:06.12783Z"
    }
   },
   "outputs": [],
   "source": [
    "df.tail()"
   ]
  },
  {
   "cell_type": "code",
   "execution_count": null,
   "metadata": {
    "execution": {
     "iopub.execute_input": "2021-12-26T17:38:06.55369Z",
     "iopub.status.busy": "2021-12-26T17:38:06.553407Z",
     "iopub.status.idle": "2021-12-26T17:38:06.560594Z",
     "shell.execute_reply": "2021-12-26T17:38:06.559905Z",
     "shell.execute_reply.started": "2021-12-26T17:38:06.553658Z"
    }
   },
   "outputs": [],
   "source": [
    "df.dtypes"
   ]
  },
  {
   "cell_type": "code",
   "execution_count": null,
   "metadata": {
    "execution": {
     "iopub.execute_input": "2021-12-26T17:38:06.816764Z",
     "iopub.status.busy": "2021-12-26T17:38:06.816037Z",
     "iopub.status.idle": "2021-12-26T17:38:06.831265Z",
     "shell.execute_reply": "2021-12-26T17:38:06.830498Z",
     "shell.execute_reply.started": "2021-12-26T17:38:06.816721Z"
    }
   },
   "outputs": [],
   "source": [
    "df.info()"
   ]
  },
  {
   "cell_type": "code",
   "execution_count": null,
   "metadata": {
    "execution": {
     "iopub.execute_input": "2021-12-26T17:38:07.07492Z",
     "iopub.status.busy": "2021-12-26T17:38:07.074498Z",
     "iopub.status.idle": "2021-12-26T17:38:07.080016Z",
     "shell.execute_reply": "2021-12-26T17:38:07.079377Z",
     "shell.execute_reply.started": "2021-12-26T17:38:07.074876Z"
    }
   },
   "outputs": [],
   "source": [
    "df.shape"
   ]
  },
  {
   "cell_type": "code",
   "execution_count": null,
   "metadata": {
    "execution": {
     "iopub.execute_input": "2021-12-26T17:38:07.351424Z",
     "iopub.status.busy": "2021-12-26T17:38:07.350999Z",
     "iopub.status.idle": "2021-12-26T17:38:07.361402Z",
     "shell.execute_reply": "2021-12-26T17:38:07.360466Z",
     "shell.execute_reply.started": "2021-12-26T17:38:07.351385Z"
    }
   },
   "outputs": [],
   "source": [
    "#Miss Valuse\n",
    "df.isnull().sum()"
   ]
  },
  {
   "cell_type": "code",
   "execution_count": null,
   "metadata": {
    "execution": {
     "iopub.execute_input": "2021-12-26T17:38:07.596522Z",
     "iopub.status.busy": "2021-12-26T17:38:07.596177Z",
     "iopub.status.idle": "2021-12-26T17:38:07.604995Z",
     "shell.execute_reply": "2021-12-26T17:38:07.604057Z",
     "shell.execute_reply.started": "2021-12-26T17:38:07.596472Z"
    }
   },
   "outputs": [],
   "source": [
    "#Duplicated value \n",
    "data_dup = df.duplicated().any()\n",
    "data_dup"
   ]
  },
  {
   "cell_type": "code",
   "execution_count": null,
   "metadata": {
    "execution": {
     "iopub.execute_input": "2021-12-26T17:38:08.135816Z",
     "iopub.status.busy": "2021-12-26T17:38:08.135505Z",
     "iopub.status.idle": "2021-12-26T17:38:08.142976Z",
     "shell.execute_reply": "2021-12-26T17:38:08.141908Z",
     "shell.execute_reply.started": "2021-12-26T17:38:08.135779Z"
    }
   },
   "outputs": [],
   "source": [
    "df = df.drop_duplicates()"
   ]
  },
  {
   "cell_type": "code",
   "execution_count": null,
   "metadata": {
    "execution": {
     "iopub.execute_input": "2021-12-26T17:38:08.408673Z",
     "iopub.status.busy": "2021-12-26T17:38:08.408204Z",
     "iopub.status.idle": "2021-12-26T17:38:08.417269Z",
     "shell.execute_reply": "2021-12-26T17:38:08.416395Z",
     "shell.execute_reply.started": "2021-12-26T17:38:08.408639Z"
    }
   },
   "outputs": [],
   "source": [
    "data_dup = df.duplicated().any()\n",
    "data_dup"
   ]
  },
  {
   "cell_type": "code",
   "execution_count": null,
   "metadata": {
    "execution": {
     "iopub.execute_input": "2021-12-26T17:38:08.719811Z",
     "iopub.status.busy": "2021-12-26T17:38:08.719518Z",
     "iopub.status.idle": "2021-12-26T17:38:08.726241Z",
     "shell.execute_reply": "2021-12-26T17:38:08.725384Z",
     "shell.execute_reply.started": "2021-12-26T17:38:08.719781Z"
    }
   },
   "outputs": [],
   "source": [
    "ca_val=[]\n",
    "co_val=[]\n",
    "\n",
    "for column in df.columns:\n",
    "    if df[column].nunique() <=10:\n",
    "        ca_val.append(column)\n",
    "    else:\n",
    "        co_val.append(column)"
   ]
  },
  {
   "cell_type": "code",
   "execution_count": null,
   "metadata": {
    "execution": {
     "iopub.execute_input": "2021-12-26T17:38:09.319497Z",
     "iopub.status.busy": "2021-12-26T17:38:09.318669Z",
     "iopub.status.idle": "2021-12-26T17:38:09.325372Z",
     "shell.execute_reply": "2021-12-26T17:38:09.324507Z",
     "shell.execute_reply.started": "2021-12-26T17:38:09.31944Z"
    }
   },
   "outputs": [],
   "source": [
    "#Categorical Data\n",
    "ca_val"
   ]
  },
  {
   "cell_type": "code",
   "execution_count": null,
   "metadata": {
    "execution": {
     "iopub.execute_input": "2021-12-26T17:38:09.590175Z",
     "iopub.status.busy": "2021-12-26T17:38:09.589261Z",
     "iopub.status.idle": "2021-12-26T17:38:09.597413Z",
     "shell.execute_reply": "2021-12-26T17:38:09.596518Z",
     "shell.execute_reply.started": "2021-12-26T17:38:09.59013Z"
    }
   },
   "outputs": [],
   "source": [
    "df['BodyTemp'].unique()"
   ]
  },
  {
   "cell_type": "code",
   "execution_count": null,
   "metadata": {
    "execution": {
     "iopub.execute_input": "2021-12-26T17:38:10.258818Z",
     "iopub.status.busy": "2021-12-26T17:38:10.25806Z",
     "iopub.status.idle": "2021-12-26T17:38:10.26719Z",
     "shell.execute_reply": "2021-12-26T17:38:10.266509Z",
     "shell.execute_reply.started": "2021-12-26T17:38:10.258758Z"
    }
   },
   "outputs": [],
   "source": [
    "df['RiskLevel'].unique()"
   ]
  },
  {
   "cell_type": "code",
   "execution_count": null,
   "metadata": {
    "execution": {
     "iopub.execute_input": "2021-12-26T17:38:10.867142Z",
     "iopub.status.busy": "2021-12-26T17:38:10.866458Z",
     "iopub.status.idle": "2021-12-26T17:38:10.872741Z",
     "shell.execute_reply": "2021-12-26T17:38:10.871992Z",
     "shell.execute_reply.started": "2021-12-26T17:38:10.867105Z"
    }
   },
   "outputs": [],
   "source": [
    "co_val"
   ]
  },
  {
   "cell_type": "code",
   "execution_count": null,
   "metadata": {
    "execution": {
     "iopub.execute_input": "2021-12-26T17:38:11.090701Z",
     "iopub.status.busy": "2021-12-26T17:38:11.090377Z",
     "iopub.status.idle": "2021-12-26T17:38:11.097026Z",
     "shell.execute_reply": "2021-12-26T17:38:11.096442Z",
     "shell.execute_reply.started": "2021-12-26T17:38:11.090665Z"
    }
   },
   "outputs": [],
   "source": [
    "df['Age'].unique()"
   ]
  },
  {
   "cell_type": "code",
   "execution_count": null,
   "metadata": {
    "execution": {
     "iopub.execute_input": "2021-12-26T17:38:11.363378Z",
     "iopub.status.busy": "2021-12-26T17:38:11.3629Z",
     "iopub.status.idle": "2021-12-26T17:38:11.370153Z",
     "shell.execute_reply": "2021-12-26T17:38:11.36958Z",
     "shell.execute_reply.started": "2021-12-26T17:38:11.363328Z"
    }
   },
   "outputs": [],
   "source": [
    "df['SystolicBP'].unique()"
   ]
  },
  {
   "cell_type": "code",
   "execution_count": null,
   "metadata": {
    "execution": {
     "iopub.execute_input": "2021-12-26T17:38:11.807747Z",
     "iopub.status.busy": "2021-12-26T17:38:11.807258Z",
     "iopub.status.idle": "2021-12-26T17:38:11.814369Z",
     "shell.execute_reply": "2021-12-26T17:38:11.813545Z",
     "shell.execute_reply.started": "2021-12-26T17:38:11.807698Z"
    }
   },
   "outputs": [],
   "source": [
    "df['DiastolicBP'].unique()"
   ]
  },
  {
   "cell_type": "code",
   "execution_count": null,
   "metadata": {
    "execution": {
     "iopub.execute_input": "2021-12-26T17:38:12.227595Z",
     "iopub.status.busy": "2021-12-26T17:38:12.227272Z",
     "iopub.status.idle": "2021-12-26T17:38:12.233546Z",
     "shell.execute_reply": "2021-12-26T17:38:12.232936Z",
     "shell.execute_reply.started": "2021-12-26T17:38:12.227544Z"
    }
   },
   "outputs": [],
   "source": [
    "df['BS'].unique()"
   ]
  },
  {
   "cell_type": "code",
   "execution_count": null,
   "metadata": {
    "execution": {
     "iopub.execute_input": "2021-12-26T17:38:12.912359Z",
     "iopub.status.busy": "2021-12-26T17:38:12.911841Z",
     "iopub.status.idle": "2021-12-26T17:38:12.918577Z",
     "shell.execute_reply": "2021-12-26T17:38:12.917762Z",
     "shell.execute_reply.started": "2021-12-26T17:38:12.912322Z"
    }
   },
   "outputs": [],
   "source": [
    "df['HeartRate'].unique()"
   ]
  },
  {
   "cell_type": "code",
   "execution_count": null,
   "metadata": {
    "execution": {
     "iopub.execute_input": "2021-12-26T17:38:13.543854Z",
     "iopub.status.busy": "2021-12-26T17:38:13.543206Z",
     "iopub.status.idle": "2021-12-26T17:38:13.562557Z",
     "shell.execute_reply": "2021-12-26T17:38:13.561656Z",
     "shell.execute_reply.started": "2021-12-26T17:38:13.543799Z"
    }
   },
   "outputs": [],
   "source": [
    "RiskLevel = {'low risk':1, \n",
    "        'mid risk':2, \n",
    "        'high risk':3}\n",
    "\n",
    "# apply using map\n",
    "df['RiskLevel'] = df['RiskLevel'].map(RiskLevel).astype(float)\n",
    "df"
   ]
  },
  {
   "cell_type": "code",
   "execution_count": null,
   "metadata": {
    "execution": {
     "iopub.execute_input": "2021-12-26T17:38:14.498611Z",
     "iopub.status.busy": "2021-12-26T17:38:14.498305Z",
     "iopub.status.idle": "2021-12-26T17:38:14.505917Z",
     "shell.execute_reply": "2021-12-26T17:38:14.50536Z",
     "shell.execute_reply.started": "2021-12-26T17:38:14.498579Z"
    }
   },
   "outputs": [],
   "source": [
    "df['RiskLevel'].value_counts()"
   ]
  },
  {
   "cell_type": "code",
   "execution_count": null,
   "metadata": {
    "execution": {
     "iopub.execute_input": "2021-12-26T17:38:15.13943Z",
     "iopub.status.busy": "2021-12-26T17:38:15.138368Z",
     "iopub.status.idle": "2021-12-26T17:38:15.171233Z",
     "shell.execute_reply": "2021-12-26T17:38:15.170212Z",
     "shell.execute_reply.started": "2021-12-26T17:38:15.139378Z"
    }
   },
   "outputs": [],
   "source": [
    "df.describe()"
   ]
  },
  {
   "cell_type": "code",
   "execution_count": null,
   "metadata": {
    "execution": {
     "iopub.execute_input": "2021-12-26T17:38:15.621737Z",
     "iopub.status.busy": "2021-12-26T17:38:15.620996Z",
     "iopub.status.idle": "2021-12-26T17:38:15.633248Z",
     "shell.execute_reply": "2021-12-26T17:38:15.632429Z",
     "shell.execute_reply.started": "2021-12-26T17:38:15.621692Z"
    }
   },
   "outputs": [],
   "source": [
    "df[['RiskLevel','Age']].corr()"
   ]
  },
  {
   "cell_type": "code",
   "execution_count": null,
   "metadata": {
    "execution": {
     "iopub.execute_input": "2021-12-26T17:38:16.216629Z",
     "iopub.status.busy": "2021-12-26T17:38:16.215735Z",
     "iopub.status.idle": "2021-12-26T17:38:16.227397Z",
     "shell.execute_reply": "2021-12-26T17:38:16.226547Z",
     "shell.execute_reply.started": "2021-12-26T17:38:16.216584Z"
    }
   },
   "outputs": [],
   "source": [
    "df[['RiskLevel','SystolicBP']].corr()"
   ]
  },
  {
   "cell_type": "code",
   "execution_count": null,
   "metadata": {
    "execution": {
     "iopub.execute_input": "2021-12-26T17:38:16.654684Z",
     "iopub.status.busy": "2021-12-26T17:38:16.653521Z",
     "iopub.status.idle": "2021-12-26T17:38:16.666915Z",
     "shell.execute_reply": "2021-12-26T17:38:16.665901Z",
     "shell.execute_reply.started": "2021-12-26T17:38:16.654632Z"
    }
   },
   "outputs": [],
   "source": [
    "df[['RiskLevel','DiastolicBP']].corr()"
   ]
  },
  {
   "cell_type": "code",
   "execution_count": null,
   "metadata": {
    "execution": {
     "iopub.execute_input": "2021-12-26T17:38:17.172576Z",
     "iopub.status.busy": "2021-12-26T17:38:17.172278Z",
     "iopub.status.idle": "2021-12-26T17:38:17.184415Z",
     "shell.execute_reply": "2021-12-26T17:38:17.183766Z",
     "shell.execute_reply.started": "2021-12-26T17:38:17.172542Z"
    }
   },
   "outputs": [],
   "source": [
    "df[['RiskLevel','BS']].corr()"
   ]
  },
  {
   "cell_type": "code",
   "execution_count": null,
   "metadata": {
    "execution": {
     "iopub.execute_input": "2021-12-26T17:38:17.75899Z",
     "iopub.status.busy": "2021-12-26T17:38:17.758714Z",
     "iopub.status.idle": "2021-12-26T17:38:17.769519Z",
     "shell.execute_reply": "2021-12-26T17:38:17.768894Z",
     "shell.execute_reply.started": "2021-12-26T17:38:17.75896Z"
    }
   },
   "outputs": [],
   "source": [
    "df[['RiskLevel','HeartRate']].corr()"
   ]
  },
  {
   "cell_type": "code",
   "execution_count": null,
   "metadata": {
    "execution": {
     "iopub.execute_input": "2021-12-26T17:38:18.850041Z",
     "iopub.status.busy": "2021-12-26T17:38:18.849391Z",
     "iopub.status.idle": "2021-12-26T17:38:19.707716Z",
     "shell.execute_reply": "2021-12-26T17:38:19.706943Z",
     "shell.execute_reply.started": "2021-12-26T17:38:18.850006Z"
    }
   },
   "outputs": [],
   "source": [
    "from dataprep.eda import plot\n",
    "plot(df)"
   ]
  },
  {
   "cell_type": "code",
   "execution_count": null,
   "metadata": {
    "execution": {
     "iopub.execute_input": "2021-12-26T17:40:56.514413Z",
     "iopub.status.busy": "2021-12-26T17:40:56.514135Z",
     "iopub.status.idle": "2021-12-26T17:40:57.064551Z",
     "shell.execute_reply": "2021-12-26T17:40:57.06207Z",
     "shell.execute_reply.started": "2021-12-26T17:40:56.514385Z"
    }
   },
   "outputs": [],
   "source": [
    "plot(df,'Age')"
   ]
  },
  {
   "cell_type": "code",
   "execution_count": null,
   "metadata": {
    "execution": {
     "iopub.execute_input": "2021-12-26T17:41:20.522477Z",
     "iopub.status.busy": "2021-12-26T17:41:20.522164Z",
     "iopub.status.idle": "2021-12-26T17:41:21.020348Z",
     "shell.execute_reply": "2021-12-26T17:41:21.019382Z",
     "shell.execute_reply.started": "2021-12-26T17:41:20.522445Z"
    }
   },
   "outputs": [],
   "source": [
    "plot(df,'SystolicBP')"
   ]
  },
  {
   "cell_type": "code",
   "execution_count": null,
   "metadata": {},
   "outputs": [],
   "source": [
    "plot(df,'DiastolicBP')"
   ]
  },
  {
   "cell_type": "code",
   "execution_count": null,
   "metadata": {
    "execution": {
     "iopub.execute_input": "2021-12-26T17:42:03.322814Z",
     "iopub.status.busy": "2021-12-26T17:42:03.321927Z",
     "iopub.status.idle": "2021-12-26T17:42:03.85356Z",
     "shell.execute_reply": "2021-12-26T17:42:03.852659Z",
     "shell.execute_reply.started": "2021-12-26T17:42:03.322761Z"
    }
   },
   "outputs": [],
   "source": [
    "plot(df,'BS')"
   ]
  },
  {
   "cell_type": "code",
   "execution_count": null,
   "metadata": {
    "execution": {
     "iopub.execute_input": "2021-12-26T17:42:43.827324Z",
     "iopub.status.busy": "2021-12-26T17:42:43.827042Z",
     "iopub.status.idle": "2021-12-26T17:42:44.318003Z",
     "shell.execute_reply": "2021-12-26T17:42:44.315184Z",
     "shell.execute_reply.started": "2021-12-26T17:42:43.827295Z"
    }
   },
   "outputs": [],
   "source": [
    "plot(df,'HeartRate')"
   ]
  },
  {
   "cell_type": "code",
   "execution_count": null,
   "metadata": {
    "execution": {
     "iopub.execute_input": "2021-12-26T17:42:44.478383Z",
     "iopub.status.busy": "2021-12-26T17:42:44.478069Z",
     "iopub.status.idle": "2021-12-26T17:42:45.085304Z",
     "shell.execute_reply": "2021-12-26T17:42:45.084078Z",
     "shell.execute_reply.started": "2021-12-26T17:42:44.478349Z"
    }
   },
   "outputs": [],
   "source": [
    "plot(df,'RiskLevel')"
   ]
  },
  {
   "cell_type": "code",
   "execution_count": null,
   "metadata": {
    "execution": {
     "iopub.execute_input": "2021-12-26T17:40:31.318118Z",
     "iopub.status.busy": "2021-12-26T17:40:31.317602Z",
     "iopub.status.idle": "2021-12-26T17:40:31.339384Z",
     "shell.execute_reply": "2021-12-26T17:40:31.338434Z",
     "shell.execute_reply.started": "2021-12-26T17:40:31.318077Z"
    }
   },
   "outputs": [],
   "source": [
    "df\n"
   ]
  },
  {
   "cell_type": "code",
   "execution_count": null,
   "metadata": {
    "execution": {
     "iopub.execute_input": "2021-12-26T17:43:30.77669Z",
     "iopub.status.busy": "2021-12-26T17:43:30.776023Z",
     "iopub.status.idle": "2021-12-26T17:43:31.104372Z",
     "shell.execute_reply": "2021-12-26T17:43:31.102634Z",
     "shell.execute_reply.started": "2021-12-26T17:43:30.776647Z"
    }
   },
   "outputs": [],
   "source": [
    "from dataprep.eda import plot_correlation\n",
    "plot_correlation(df)"
   ]
  },
  {
   "cell_type": "code",
   "execution_count": null,
   "metadata": {
    "execution": {
     "iopub.execute_input": "2021-12-26T17:21:39.125098Z",
     "iopub.status.busy": "2021-12-26T17:21:39.12457Z",
     "iopub.status.idle": "2021-12-26T17:21:40.021063Z",
     "shell.execute_reply": "2021-12-26T17:21:40.020151Z",
     "shell.execute_reply.started": "2021-12-26T17:21:39.125049Z"
    }
   },
   "outputs": [],
   "source": [
    "import matplotlib.pyplot as plt\n",
    "df.hist(bins=50, figsize=(20, 15))\n",
    "plt.show()"
   ]
  },
  {
   "cell_type": "code",
   "execution_count": null,
   "metadata": {
    "execution": {
     "iopub.execute_input": "2021-12-26T17:48:39.895193Z",
     "iopub.status.busy": "2021-12-26T17:48:39.894876Z",
     "iopub.status.idle": "2021-12-26T17:48:40.222931Z",
     "shell.execute_reply": "2021-12-26T17:48:40.222318Z",
     "shell.execute_reply.started": "2021-12-26T17:48:39.895157Z"
    }
   },
   "outputs": [],
   "source": [
    "df['RiskLevel'].value_counts()\n",
    "\n",
    "df['RiskLevel'].value_counts() * 100 / len(df)\n",
    "\n",
    "\n",
    "sns.countplot(x='RiskLevel', data=df, palette='viridis')"
   ]
  },
  {
   "cell_type": "code",
   "execution_count": null,
   "metadata": {
    "execution": {
     "iopub.execute_input": "2021-12-26T17:21:40.363042Z",
     "iopub.status.busy": "2021-12-26T17:21:40.362811Z",
     "iopub.status.idle": "2021-12-26T17:21:40.369824Z",
     "shell.execute_reply": "2021-12-26T17:21:40.368875Z",
     "shell.execute_reply.started": "2021-12-26T17:21:40.363014Z"
    }
   },
   "outputs": [],
   "source": [
    "X = df.drop('RiskLevel',axis=1)\n",
    "y = df['RiskLevel']"
   ]
  },
  {
   "cell_type": "code",
   "execution_count": null,
   "metadata": {
    "execution": {
     "iopub.execute_input": "2021-12-26T17:21:40.371742Z",
     "iopub.status.busy": "2021-12-26T17:21:40.371431Z",
     "iopub.status.idle": "2021-12-26T17:21:40.396166Z",
     "shell.execute_reply": "2021-12-26T17:21:40.395057Z",
     "shell.execute_reply.started": "2021-12-26T17:21:40.371707Z"
    }
   },
   "outputs": [],
   "source": [
    "X"
   ]
  },
  {
   "cell_type": "code",
   "execution_count": null,
   "metadata": {
    "execution": {
     "iopub.execute_input": "2021-12-26T17:21:40.398129Z",
     "iopub.status.busy": "2021-12-26T17:21:40.397536Z",
     "iopub.status.idle": "2021-12-26T17:21:40.412723Z",
     "shell.execute_reply": "2021-12-26T17:21:40.411819Z",
     "shell.execute_reply.started": "2021-12-26T17:21:40.398069Z"
    }
   },
   "outputs": [],
   "source": [
    "y"
   ]
  },
  {
   "cell_type": "code",
   "execution_count": null,
   "metadata": {
    "execution": {
     "iopub.execute_input": "2021-12-26T17:21:40.414521Z",
     "iopub.status.busy": "2021-12-26T17:21:40.413776Z",
     "iopub.status.idle": "2021-12-26T17:21:40.430952Z",
     "shell.execute_reply": "2021-12-26T17:21:40.429783Z",
     "shell.execute_reply.started": "2021-12-26T17:21:40.414453Z"
    }
   },
   "outputs": [],
   "source": [
    "#Splitting The Dataset\n",
    "\n",
    "X_train,X_test,y_train,y_test=train_test_split(X,y,test_size=0.3,\n",
    "                                               random_state=42)\n",
    "y_test"
   ]
  },
  {
   "cell_type": "code",
   "execution_count": null,
   "metadata": {
    "execution": {
     "iopub.execute_input": "2021-12-26T17:21:40.432864Z",
     "iopub.status.busy": "2021-12-26T17:21:40.432262Z",
     "iopub.status.idle": "2021-12-26T17:21:40.443036Z",
     "shell.execute_reply": "2021-12-26T17:21:40.441928Z",
     "shell.execute_reply.started": "2021-12-26T17:21:40.432819Z"
    }
   },
   "outputs": [],
   "source": [
    "print(f'Training Shape x:',X_train.shape)\n",
    "print(f'Testing Shape x:',X_test.shape)\n",
    "print('*****___________*****___________*****')\n",
    "print(f'Training Shape y:',X.shape)\n",
    "print(f'Testing Shape y:',y.shape)"
   ]
  },
  {
   "cell_type": "code",
   "execution_count": null,
   "metadata": {
    "execution": {
     "iopub.execute_input": "2021-12-26T17:21:40.445456Z",
     "iopub.status.busy": "2021-12-26T17:21:40.444504Z",
     "iopub.status.idle": "2021-12-26T17:21:40.463274Z",
     "shell.execute_reply": "2021-12-26T17:21:40.462116Z",
     "shell.execute_reply.started": "2021-12-26T17:21:40.445405Z"
    }
   },
   "outputs": [],
   "source": [
    "#StandardScaler\n",
    "\n",
    "ss = StandardScaler()\n",
    "\n",
    "X_train = ss.fit_transform(X_train)\n",
    "\n",
    "X_test= ss.transform(X_test)\n"
   ]
  },
  {
   "cell_type": "code",
   "execution_count": null,
   "metadata": {
    "execution": {
     "iopub.execute_input": "2021-12-26T17:21:40.465734Z",
     "iopub.status.busy": "2021-12-26T17:21:40.464802Z",
     "iopub.status.idle": "2021-12-26T17:21:40.497448Z",
     "shell.execute_reply": "2021-12-26T17:21:40.496611Z",
     "shell.execute_reply.started": "2021-12-26T17:21:40.465687Z"
    }
   },
   "outputs": [],
   "source": [
    "#Applying SVC (Support Vector Classification)\n",
    "from sklearn.svm import SVC\n",
    "\n",
    "#Create svm\n",
    "svm = SVC(kernel='rbf', random_state=0, gamma=.10, C=1.0)\n",
    "svm.fit(X_train, y_train)\n",
    "print(\"Train accuracy:\",svm.score(X_train,y_train))\n",
    "print(\"Test accuracy:\",svm.score(X_test,y_test))\n",
    "\n",
    "y_pred = svm.predict(X_test)\n",
    "print(y_pred)\n",
    "cm = confusion_matrix(y_test, y_pred)\n",
    "print(f'CM:',cm)\n",
    "print(f'Accuracy:',accuracy_score(y_test, y_pred)* 100 ,'%')\n",
    "print(classification_report(y_test, svm.predict(X_test)))"
   ]
  },
  {
   "cell_type": "code",
   "execution_count": null,
   "metadata": {
    "execution": {
     "iopub.execute_input": "2021-12-26T17:21:40.502014Z",
     "iopub.status.busy": "2021-12-26T17:21:40.501472Z",
     "iopub.status.idle": "2021-12-26T17:21:41.050402Z",
     "shell.execute_reply": "2021-12-26T17:21:41.049479Z",
     "shell.execute_reply.started": "2021-12-26T17:21:40.501978Z"
    }
   },
   "outputs": [],
   "source": [
    "#Applying XGBoost\n",
    "import xgboost as xgb\n",
    "\n",
    "#Create XGBClassifier\n",
    "xgb_clf = xgb.XGBClassifier()\n",
    "\n",
    "xgb_clf = xgb_clf.fit(X_train, y_train)\n",
    "\n",
    "print(\"Train accuracy:\",xgb_clf.score(X_train,y_train))\n",
    "print(\"Test accuracy:\",xgb_clf.score(X_test,y_test))\n",
    "\n",
    "y_pred = xgb_clf.predict(X_test)\n",
    "print(y_pred)\n",
    "cm = confusion_matrix(y_test, y_pred)\n",
    "print(f'CM:',cm)\n",
    "print(f'Accuracy:',accuracy_score(y_test, y_pred)* 100 ,'%')\n",
    "print(classification_report(y_test, xgb_clf.predict(X_test)))\n"
   ]
  },
  {
   "cell_type": "code",
   "execution_count": null,
   "metadata": {
    "execution": {
     "iopub.execute_input": "2021-12-26T17:21:41.056779Z",
     "iopub.status.busy": "2021-12-26T17:21:41.051906Z",
     "iopub.status.idle": "2021-12-26T17:21:41.078968Z",
     "shell.execute_reply": "2021-12-26T17:21:41.078169Z",
     "shell.execute_reply.started": "2021-12-26T17:21:41.056715Z"
    }
   },
   "outputs": [],
   "source": [
    "#Applying Decision Tree\n",
    "from sklearn import tree\n",
    "\n",
    "#Create tree object\n",
    "decision_tree = tree.DecisionTreeClassifier(criterion='gini')\n",
    "\n",
    "#Train DT based on scaled training set\n",
    "decision_tree.fit(X_train, y_train)\n",
    "\n",
    "print(\"Train accuracy:\",decision_tree.score(X_train,y_train))\n",
    "print(\"Test accuracy:\",decision_tree.score(X_test,y_test))\n",
    "\n",
    "y_pred = decision_tree.predict(X_test)\n",
    "print(y_pred)\n",
    "cm = confusion_matrix(y_test, y_pred)\n",
    "print(f'CM:',cm)\n",
    "print(f'Accuracy:',accuracy_score(y_test, y_pred)* 100 ,'%')\n",
    "print(classification_report(y_test, decision_tree.predict(X_test)))"
   ]
  },
  {
   "cell_type": "code",
   "execution_count": null,
   "metadata": {
    "execution": {
     "iopub.execute_input": "2021-12-26T17:21:41.081079Z",
     "iopub.status.busy": "2021-12-26T17:21:41.080237Z",
     "iopub.status.idle": "2021-12-26T17:21:41.316053Z",
     "shell.execute_reply": "2021-12-26T17:21:41.31479Z",
     "shell.execute_reply.started": "2021-12-26T17:21:41.081037Z"
    }
   },
   "outputs": [],
   "source": [
    "#Applying RandomForest\n",
    "from sklearn.ensemble import RandomForestClassifier\n",
    "\n",
    "#Create Random Forest object\n",
    "random_forest = RandomForestClassifier()\n",
    "\n",
    "#Train model\n",
    "random_forest.fit(X_train, y_train)\n",
    "\n",
    "print(\"Train accuracy:\",random_forest.score(X_train,y_train))\n",
    "print(\"Test accuracy:\",random_forest.score(X_test,y_test))\n",
    "\n",
    "y_pred = random_forest.predict(X_test)\n",
    "print(y_pred)\n",
    "cm = confusion_matrix(y_test, y_pred)\n",
    "print(f'CM:',cm)\n",
    "print(f'Accuracy:',accuracy_score(y_test, y_pred)* 100 ,'%')\n",
    "print(classification_report(y_test, random_forest.predict(X_test)))"
   ]
  },
  {
   "cell_type": "code",
   "execution_count": null,
   "metadata": {
    "execution": {
     "iopub.execute_input": "2021-12-26T17:21:41.318085Z",
     "iopub.status.busy": "2021-12-26T17:21:41.317681Z",
     "iopub.status.idle": "2021-12-26T17:21:41.342794Z",
     "shell.execute_reply": "2021-12-26T17:21:41.341733Z",
     "shell.execute_reply.started": "2021-12-26T17:21:41.318041Z"
    }
   },
   "outputs": [],
   "source": [
    "#Applying GaussianNB\n",
    "from sklearn.naive_bayes import GaussianNB\n",
    "nb = GaussianNB()\n",
    "nb.fit(X_train , y_train)\n",
    "\n",
    "print(\"Train accuracy:\",nb.score(X_train,y_train))\n",
    "print(\"Test accuracy:\",nb.score(X_test,y_test))\n",
    "\n",
    "y_pred = nb.predict(X_test)\n",
    "print(y_pred)\n",
    "cm = confusion_matrix(y_test, y_pred)\n",
    "print(f'CM:',cm)\n",
    "print(f'Accuracy:',accuracy_score(y_test, y_pred)* 100 ,'%')\n",
    "print(classification_report(y_test, nb.predict(X_test)))"
   ]
  }
 ],
 "metadata": {
  "kernelspec": {
   "display_name": "myenv",
   "language": "python",
   "name": "myenv"
  },
  "language_info": {
   "codemirror_mode": {
    "name": "ipython",
    "version": 3
   },
   "file_extension": ".py",
   "mimetype": "text/x-python",
   "name": "python",
   "nbconvert_exporter": "python",
   "pygments_lexer": "ipython3",
   "version": "3.11.6"
  }
 },
 "nbformat": 4,
 "nbformat_minor": 4
}
